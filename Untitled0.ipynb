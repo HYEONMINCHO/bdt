{
  "nbformat": 4,
  "nbformat_minor": 0,
  "metadata": {
    "colab": {
      "provenance": [],
      "authorship_tag": "ABX9TyO3P4XCxnUsVTuAPJEAqmZC",
      "include_colab_link": true
    },
    "kernelspec": {
      "name": "python3",
      "display_name": "Python 3"
    },
    "language_info": {
      "name": "python"
    }
  },
  "cells": [
    {
      "cell_type": "markdown",
      "metadata": {
        "id": "view-in-github",
        "colab_type": "text"
      },
      "source": [
        "<a href=\"https://colab.research.google.com/github/HYEONMINCHO/bdt/blob/main/Untitled0.ipynb\" target=\"_parent\"><img src=\"https://colab.research.google.com/assets/colab-badge.svg\" alt=\"Open In Colab\"/></a>"
      ]
    },
    {
      "cell_type": "code",
      "execution_count": 17,
      "metadata": {
        "colab": {
          "base_uri": "https://localhost:8080/"
        },
        "id": "hZR3IbcJH4zx",
        "outputId": "c5fd230e-fb10-4b21-b9d0-1126f44548de"
      },
      "outputs": [
        {
          "output_type": "execute_result",
          "data": {
            "text/plain": [
              "2"
            ]
          },
          "metadata": {},
          "execution_count": 17
        }
      ],
      "source": [
        "a = 123\n",
        "a = 12.34\n",
        "a = 1 + 2j\n",
        "a.real\n",
        "a.imag\n",
        "a.conjugate()\n",
        "(1 - 2j)\n",
        "abs(a)\n",
        "a=0o12\n",
        "a\n",
        "a=0x12A\n",
        "a\n",
        "b=True\n",
        "b\n",
        "a=3\n",
        "b=4\n",
        "a+b\n",
        "a-b\n",
        "a*b\n",
        "a/b\n",
        "a**b\n",
        "2**3\n",
        "a%b\n",
        "7%3\n",
        "a//b\n",
        "7//3\n"
      ]
    }
  ]
}